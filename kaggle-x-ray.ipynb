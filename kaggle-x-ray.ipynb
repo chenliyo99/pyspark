{
 "cells": [
  {
   "cell_type": "code",
   "execution_count": null,
   "id": "af98c9ec-435b-4876-be9c-aa1f3f91949b",
   "metadata": {
    "tags": []
   },
   "outputs": [],
   "source": [
    "!pip install -q kaggle"
   ]
  },
  {
   "cell_type": "code",
   "execution_count": null,
   "id": "089801f8-d907-464d-97df-3610aa38fa73",
   "metadata": {
    "tags": []
   },
   "outputs": [],
   "source": [
    "!mkdir ~/.kaggle"
   ]
  },
  {
   "cell_type": "code",
   "execution_count": null,
   "id": "b30267a3-4607-4500-a4dc-f43f94f61f6f",
   "metadata": {
    "tags": []
   },
   "outputs": [],
   "source": [
    "!touch ~/.kaggle/kaggle.json"
   ]
  },
  {
   "cell_type": "code",
   "execution_count": null,
   "id": "049db412-9212-4533-b0be-83591deb2e19",
   "metadata": {
    "tags": []
   },
   "outputs": [],
   "source": [
    "api_token = {\"username\":\"chenliyo99\",\"key\":\"ffad98dafbb569289dc3bab92791b9b4\"}"
   ]
  },
  {
   "cell_type": "code",
   "execution_count": null,
   "id": "165a4119-5004-4dd0-b867-974a9d279f70",
   "metadata": {
    "tags": []
   },
   "outputs": [],
   "source": [
    "\n",
    "\n",
    "import json \n",
    "\n",
    "with open('/root/.kaggle/kaggle.json','w') as file:\n",
    "    json.dump(api_token,file)\n",
    "\n"
   ]
  },
  {
   "cell_type": "code",
   "execution_count": null,
   "id": "d900135a-6792-4ec1-b227-2ea630cc99d6",
   "metadata": {
    "tags": []
   },
   "outputs": [],
   "source": [
    "\n",
    "\n",
    "!chmod 600 ~/.kaggle/kaggle.json\n",
    "\n"
   ]
  },
  {
   "cell_type": "code",
   "execution_count": null,
   "id": "ebb63808-dabe-4947-bb86-51149984b71a",
   "metadata": {
    "tags": []
   },
   "outputs": [],
   "source": [
    "!kaggle datasets download -d paultimothymooney/chest-xray-pneumonia --force"
   ]
  },
  {
   "cell_type": "code",
   "execution_count": null,
   "id": "d631afe1-39c1-40df-a7de-8666f0947e51",
   "metadata": {
    "tags": []
   },
   "outputs": [],
   "source": [
    "import zipfile\n",
    "with zipfile.ZipFile('./chest-xray-pneumonia.zip', 'r') as zip_ref:\n",
    "    zip_ref.extractall('./data')"
   ]
  },
  {
   "cell_type": "code",
   "execution_count": null,
   "id": "67c3ac45-b712-48a0-9b36-f778764b8288",
   "metadata": {
    "tags": []
   },
   "outputs": [],
   "source": [
    "\n",
    "\n",
    "import glob\n",
    "import random\n",
    "import matplotlib.pyplot as plt\n",
    "\n",
    "\n",
    "\n",
    "def get_random_image(dir,condition):\n",
    "    placeholder=''\n",
    "    if condition == 'n':\n",
    "        placeholder='NORMAL'\n",
    "    elif condition == 'p':\n",
    "        placeholder='PNEUMONIA'\n",
    "    else:\n",
    "        raise Exception(\"Sorry, invalid condition\")\n",
    "    folder=f'./data/chest_xray/{dir}/{placeholder}/*.jpeg'\n",
    "    img_paths=glob.glob(folder)\n",
    "    max_length=len(img_paths)\n",
    "    randomNumber=random.randint(0,max_length)\n",
    "    for index, item in enumerate(img_paths, start=1):\n",
    "        if index == randomNumber:\n",
    "            print(index,item)\n",
    "            image = plt.imread(item)\n",
    "            readyImage=plt.imshow(image)\n",
    "            return readyImage\n",
    "\n"
   ]
  },
  {
   "cell_type": "code",
   "execution_count": null,
   "id": "549dad5e-1a30-441c-8363-98903aa2c937",
   "metadata": {
    "tags": []
   },
   "outputs": [],
   "source": [
    "get_random_image(\"val\",\"n\")"
   ]
  },
  {
   "cell_type": "code",
   "execution_count": null,
   "id": "08796c50-7341-4b96-a979-1e370066fa02",
   "metadata": {
    "tags": []
   },
   "outputs": [],
   "source": [
    "\n",
    "\n",
    "from PIL import Image\n",
    "\n",
    "\n",
    "image = Image.open('./data/chest_xray/val/NORMAL/NORMAL2-IM-1436-0001.jpeg')  \n",
    "print(image.format)\n",
    "print(image.size)\n",
    "print(image.mode)\n",
    "\n"
   ]
  },
  {
   "cell_type": "code",
   "execution_count": null,
   "id": "037faa7f-95d2-4e33-b995-b66d038b013a",
   "metadata": {
    "tags": []
   },
   "outputs": [],
   "source": [
    "import PIL.Image\n",
    "\n",
    "rgba_image=PIL.Image.open('./data/chest_xray/val/NORMAL/NORMAL2-IM-1436-0001.jpeg')\n",
    "rgb_image=rgba_image.convert('RGB')"
   ]
  },
  {
   "cell_type": "code",
   "execution_count": null,
   "id": "16148ffc-99e9-4278-95c8-32a5e7fff60e",
   "metadata": {
    "tags": []
   },
   "outputs": [],
   "source": [
    "\n",
    "\n",
    "import matplotlib.pyplot as plt\n",
    "import matplotlib.image as mpimg\n",
    "img = mpimg.imread('./data/chest_xray/val/NORMAL/NORMAL2-IM-1436-0001.jpeg')\n",
    "imgplot = plt.imshow(img)\n",
    "plt.show()\n",
    "\n"
   ]
  },
  {
   "cell_type": "code",
   "execution_count": null,
   "id": "825b9f83-da28-4b92-8906-b5dd94d4c0d8",
   "metadata": {
    "tags": []
   },
   "outputs": [],
   "source": [
    "\n",
    "\n",
    "import glob\n",
    "import matplotlib.pyplot as plt\n",
    "from PIL import Image\n",
    "\n",
    "folder=f'./data/chest_xray/train/*/*.jpeg'\n",
    "\n",
    "counterPneu=0\n",
    "counterNormal=0\n",
    "\n",
    "img_paths=glob.glob(folder)\n",
    "\n",
    "for i in img_paths:\n",
    "    if \"person\" in i:\n",
    "        full_size_image=Image.open(i)\n",
    "        im=full_size_image.resize((224,224))\n",
    "        plt.imsave(fname='./data/chest_xray/train' + '/train_pneumonia' + str(counterPneu)+'.jpeg',arr=im,format='jpeg',cmap='gray')\n",
    "        counterPneu+=1\n",
    "    else:\n",
    "        full_size_image=Image.open(i)\n",
    "        im=full_size_image.resize((224,224))\n",
    "        plt.imsave(fname='./data/chest_xray/train' + '/train_normal' + str(counterNormal)+'.jpeg',arr=im,format='jpeg',cmap='gray')\n",
    "        counterNormal+=1\n",
    "        \n",
    "\n"
   ]
  },
  {
   "cell_type": "code",
   "execution_count": null,
   "id": "7562388d-0d3d-4d53-843d-5b3c26e03dc3",
   "metadata": {
    "tags": []
   },
   "outputs": [],
   "source": [
    "import glob\n",
    "import matplotlib.pyplot as plt\n",
    "from PIL import Image\n",
    "\n",
    "folder=f'./data/chest_xray/test/*/*.jpeg'\n",
    "\n",
    "counterPneu=0\n",
    "counterNormal=0\n",
    "\n",
    "img_paths=glob.glob(folder)\n",
    "\n",
    "for i in img_paths:\n",
    "    if \"person\" in i:\n",
    "        full_size_image=Image.open(i)\n",
    "        im=full_size_image.resize((224,224))\n",
    "        plt.imsave(fname='./data/chest_xray/test' + '/test_pneumonia' + str(counterPneu)+'.jpeg',arr=im,format='jpeg',cmap='gray')\n",
    "        counterPneu+=1\n",
    "    else:\n",
    "        full_size_image=Image.open(i)\n",
    "        im=full_size_image.resize((224,224))\n",
    "        plt.imsave(fname='./data/chest_xray/test' + '/test_normal' + str(counterNormal)+'.jpeg',arr=im,format='jpeg',cmap='gray')\n",
    "        counterNormal+=1"
   ]
  },
  {
   "cell_type": "code",
   "execution_count": null,
   "id": "35b5ce66-4b8a-4556-be70-10335db569e2",
   "metadata": {
    "tags": []
   },
   "outputs": [],
   "source": [
    "import glob\n",
    "import matplotlib.pyplot as plt\n",
    "from PIL import Image\n",
    "\n",
    "folder=f'./data/chest_xray/val/*/*.jpeg'\n",
    "\n",
    "counterPneu=0\n",
    "counterNormal=0\n",
    "\n",
    "img_paths=glob.glob(folder)\n",
    "\n",
    "for i in img_paths:\n",
    "    if \"person\" in i:\n",
    "        full_size_image=Image.open(i)\n",
    "        im=full_size_image.resize((224,224))\n",
    "        plt.imsave(fname='./data/chest_xray/val' + '/val_pneumonia' + str(counterPneu)+'.jpeg',arr=im,format='jpeg',cmap='gray')\n",
    "        counterPneu+=1\n",
    "    else:\n",
    "        full_size_image=Image.open(i)\n",
    "        im=full_size_image.resize((224,224))\n",
    "        plt.imsave(fname='./data/chest_xray/val' + '/val_normal' + str(counterNormal)+'.jpeg',arr=im,format='jpeg',cmap='gray')\n",
    "        counterNormal+=1\n",
    "        "
   ]
  },
  {
   "cell_type": "code",
   "execution_count": null,
   "id": "3956d4e8-7abb-4d51-affc-a2a8b1c08612",
   "metadata": {
    "tags": []
   },
   "outputs": [],
   "source": [
    "import glob\n",
    "import pandas as pd\n",
    "\n",
    "folder=f'./data/chest_xray/*/*.jpeg'\n",
    "\n",
    "category=[]\n",
    "filenames=[]\n",
    "condition_of_lung=[]\n",
    "\n",
    "all_files=glob.glob(folder)\n",
    "\n",
    "for filename in all_files:\n",
    "    if \"train\" in filename:\n",
    "        if \"pneumonia\" in filename:\n",
    "            category.append(\"train\")\n",
    "            filenames.append(filename)\n",
    "            condition_of_lung.append(\"pneumonia\")\n",
    "        elif \"normal\" in filename:\n",
    "            category.append(\"train\")\n",
    "            filenames.append(filename)\n",
    "            condition_of_lung.append(\"normal\")\n",
    "    elif \"test\" in filename:\n",
    "        if \"pneumonia\" in filename:\n",
    "            category.append(\"test\")\n",
    "            filenames.append(filename)\n",
    "            condition_of_lung.append(\"pneumonia\")\n",
    "        elif \"normal\" in filename:\n",
    "            category.append(\"test\")\n",
    "            filenames.append(filename)\n",
    "            condition_of_lung.append(\"normal\")\n",
    "    elif \"val\" in filename:\n",
    "        if \"pneumonia\" in filename:\n",
    "            category.append(\"val\")\n",
    "            filenames.append(filename)\n",
    "            condition_of_lung.append(\"pneumonia\")\n",
    "        elif \"normal\" in filename:\n",
    "            category.append(\"val\")\n",
    "            filenames.append(filename)\n",
    "            condition_of_lung.append(\"normal\")\n",
    "\n",
    "all_data_df=pd.DataFrame({\"dataset type\":category,\"x-ray result\":condition_of_lung,\"filename\":filenames})\n",
    "\n",
    "print(all_data_df.head())\n",
    "            \n",
    "        "
   ]
  },
  {
   "cell_type": "code",
   "execution_count": null,
   "id": "5801511d-0d29-457f-93b7-51f442454dd1",
   "metadata": {
    "tags": []
   },
   "outputs": [],
   "source": [
    "\n",
    "\n",
    "import seaborn as sns\n",
    "\n",
    "g=sns.catplot(x=\"x-ray result\",col=\"dataset type\",kind=\"count\",palette=\"ch:.55\",data=all_data_df,legend=True)\n",
    "\n",
    "for i in range(0,3):\n",
    "    ax=g.facet_axis(0,i)\n",
    "    for p in ax.patches:\n",
    "        ax.text(p.get_x()+0.3,\n",
    "        p.get_height()*1.05,\n",
    "        '{0:.0f}'.format(p.get_height()),\n",
    "        color='black',\n",
    "        rotation='horizontal',\n",
    "        size='large')\n",
    "\n"
   ]
  },
  {
   "cell_type": "code",
   "execution_count": null,
   "id": "50706502-1af4-4f4e-8cb9-294e3acf30f7",
   "metadata": {
    "tags": []
   },
   "outputs": [],
   "source": [
    "import glob\n",
    "import pandas as pd\n",
    "import os\n",
    "train_folder='./data/chest_xray/train/*.jpeg'\n",
    "train_df_lst=pd.DataFrame(columns=['labels','s3_path'],dtype=object)\n",
    "train_imgs_path=glob.glob(train_folder)\n",
    "counter=0\n",
    "class_arg=''\n",
    "\n",
    "for i in train_imgs_path:\n",
    "    if \"pneumonia\" in i:\n",
    "        class_arg=1\n",
    "    else:\n",
    "        class_arg=0\n",
    "    train_df_lst.loc[counter]=[class_arg,os.path.basename(i)]\n",
    "    counter+=1\n",
    "print(train_df_lst.head())"
   ]
  },
  {
   "cell_type": "code",
   "execution_count": null,
   "id": "c62cff82-120b-41fa-896c-d755ba27e38f",
   "metadata": {
    "tags": []
   },
   "outputs": [],
   "source": [
    "\n",
    "\n",
    "import glob\n",
    "import pandas as pd\n",
    "import os\n",
    "test_folder='./data/chest_xray/test/*.jpeg'\n",
    "test_df_lst=pd.DataFrame(columns=['labels','s3_path'],dtype=object)\n",
    "test_imgs_path=glob.glob(test_folder)\n",
    "counter=0\n",
    "class_arg=''\n",
    "\n",
    "for i in test_imgs_path:\n",
    "    if \"pneumonia\" in i:\n",
    "        class_arg=1\n",
    "    else:\n",
    "        class_arg=0\n",
    "    test_df_lst.loc[counter]=[class_arg,os.path.basename(i)]\n",
    "    counter+=1\n",
    "print(test_df_lst.head())\n",
    "\n"
   ]
  },
  {
   "cell_type": "code",
   "execution_count": null,
   "id": "7693c7bd-2e01-48c7-a869-855907bc0fc2",
   "metadata": {
    "tags": []
   },
   "outputs": [],
   "source": [
    "\n",
    "\n",
    "def save_to_lst(df,prefix):\n",
    "    return df[[\"labels\",\"s3_path\"]].to_csv(\n",
    "    f\"{prefix}.lst\", sep='\\t',index=True,header=False\n",
    "    )\n",
    "\n",
    "save_to_lst(train_df_lst.copy(),\"train\")\n",
    "save_to_lst(test_df_lst.copy(),\"test\")\n",
    "\n"
   ]
  },
  {
   "cell_type": "code",
   "execution_count": null,
   "id": "aac4394c-f821-4825-96a8-1a9fe04ed759",
   "metadata": {
    "tags": []
   },
   "outputs": [],
   "source": [
    "\n",
    "\n",
    "bucket='testimages010'\n",
    "print(\"bucket:{}\".format(bucket))\n",
    "region='us-west-2'\n",
    "print(\"region:{}\".format(region))\n",
    "roleArn='arn:aws:s3:::medical-ai-chest-xray' #arn:aws:iam::547389653559:role/s3-full-access\n",
    "print(\"roleArn:{}\".format(roleArn))\n",
    "\n"
   ]
  },
  {
   "cell_type": "code",
   "execution_count": null,
   "id": "b02cfc62-a975-40d1-91dd-7c734025c608",
   "metadata": {
    "tags": []
   },
   "outputs": [],
   "source": [
    "\n",
    "\n",
    "import os\n",
    "\n",
    "os.environ[\"DEFAULT_S3_BUCKET\"]=bucket\n",
    "\n"
   ]
  },
  {
   "cell_type": "code",
   "execution_count": null,
   "id": "08035248-71d3-4c28-b538-80a34cc7138f",
   "metadata": {
    "tags": []
   },
   "outputs": [],
   "source": [
    "!aws s3 sync ./data/chest_xray/train s3://${DEFAULT_S3_BUCKET}/train/"
   ]
  },
  {
   "cell_type": "code",
   "execution_count": null,
   "id": "4489664b-9501-4641-b40d-53ebdbce0993",
   "metadata": {
    "tags": []
   },
   "outputs": [],
   "source": [
    "!aws s3 sync ./data/chest_xray/test s3://${DEFAULT_S3_BUCKET}/test/"
   ]
  },
  {
   "cell_type": "code",
   "execution_count": null,
   "id": "1b99b916-b110-4291-b472-2309ccd586d9",
   "metadata": {
    "tags": []
   },
   "outputs": [],
   "source": [
    "import boto3\n",
    "\n",
    "boto3.Session().resource('s3').Bucket(bucket).Object(\"train.lst\").upload_file('./train.lst')\n",
    "\n",
    "boto3.Session().resource('s3').Bucket(bucket).Object(\"test.lst\").upload_file('./test.lst')\n",
    "\n"
   ]
  },
  {
   "cell_type": "code",
   "execution_count": 3,
   "id": "c11fcc19-d296-4cb2-88ef-25e1a69506c3",
   "metadata": {
    "tags": []
   },
   "outputs": [
    {
     "name": "stdout",
     "output_type": "stream",
     "text": [
      "bucket:testimages010\n",
      "region:us-west-2\n",
      "roleArn:arn:aws:s3:::testimages010\n"
     ]
    }
   ],
   "source": [
    "bucket='testimages010'\n",
    "print(\"bucket:{}\".format(bucket))\n",
    "region='us-west-2'\n",
    "print(\"region:{}\".format(region))\n",
    "roleArn='arn:aws:s3:::testimages010'\n",
    "print(\"roleArn:{}\".format(roleArn))"
   ]
  },
  {
   "cell_type": "code",
   "execution_count": 4,
   "id": "0771fcbc-b63b-455d-bc88-5c5fee718cb3",
   "metadata": {
    "tags": []
   },
   "outputs": [
    {
     "name": "stdout",
     "output_type": "stream",
     "text": [
      "sagemaker.config INFO - Not applying SDK defaults from location: /etc/xdg/sagemaker/config.yaml\n",
      "sagemaker.config INFO - Not applying SDK defaults from location: /root/.config/sagemaker/config.yaml\n",
      "433757028032.dkr.ecr.us-west-2.amazonaws.com/image-classification:1\n"
     ]
    }
   ],
   "source": [
    "\n",
    "\n",
    "import sagemaker\n",
    "from sagemaker import image_uris\n",
    "import boto3\n",
    "from sagemaker import get_execution_role\n",
    "sess=sagemaker.Session()\n",
    "\n",
    "algorithm_image=image_uris.retrieve(\n",
    "    region=boto3.Session().region_name,\n",
    "    framework=\"image-classification\"\n",
    ")\n",
    "\n",
    "s3_output_location=f\"s3://{bucket}/models/image_model\"\n",
    "print(algorithm_image)\n",
    "\n"
   ]
  },
  {
   "cell_type": "code",
   "execution_count": null,
   "id": "a36c488e-e624-4ead-9e07-01e354fc14de",
   "metadata": {
    "tags": []
   },
   "outputs": [],
   "source": [
    "\n",
    "\n",
    "role=get_execution_role()\n",
    "print(role)\n",
    "\n"
   ]
  },
  {
   "cell_type": "code",
   "execution_count": null,
   "id": "40c0fe84-41fe-450b-aefb-2f1d1db2a99a",
   "metadata": {
    "tags": []
   },
   "outputs": [],
   "source": [
    "\n",
    "\n",
    "import sagemaker\n",
    "img_classifier_model=sagemaker.estimator.Estimator(\n",
    "    algorithm_image,\n",
    "    role=role,\n",
    "    instance_count=1,\n",
    "    instance_type=\"ml.p2.xlarge\",\n",
    "    volume_size=50,\n",
    "    max_run=432000,\n",
    "    input_mode=\"File\",\n",
    "    output_path=s3_output_location,\n",
    "    sagemaker_session=sess\n",
    ")\n",
    "print(img_classifier_model)\n",
    "\n"
   ]
  },
  {
   "cell_type": "code",
   "execution_count": null,
   "id": "55c61595-b1fd-4f41-b388-d6a39e0965bf",
   "metadata": {
    "tags": []
   },
   "outputs": [],
   "source": [
    "\n",
    "\n",
    "import glob \n",
    "count=0\n",
    "\n",
    "for filepath in glob.glob('./data/chest_xray/train/*.jpeg'):\n",
    "    count+=1\n",
    "print(count)\n",
    "\n"
   ]
  },
  {
   "cell_type": "code",
   "execution_count": null,
   "id": "f1c5b9db-32b7-492f-9091-96ad142311c1",
   "metadata": {
    "tags": []
   },
   "outputs": [],
   "source": [
    "img_classifier_model.set_hyperparameters(\n",
    "image_shape='3,224,224',\n",
    "num_classes=2,\n",
    "use_pretrained_model=1,\n",
    "num_training_samples=count,\n",
    "augmentation_type='crop_color_transform',\n",
    "epochs=15,\n",
    "early_stopping=True,\n",
    "early_stopping_min_epochs=8,\n",
    "early_stopping_tolerance=0.0,\n",
    "early_stopping_patience=5,\n",
    "lr_scheduler_factor=0.1,\n",
    "lr_scheduler_step='8,10,12')"
   ]
  },
  {
   "cell_type": "code",
   "execution_count": null,
   "id": "c7216999-4ca2-4818-af94-f19e8206582c",
   "metadata": {
    "tags": []
   },
   "outputs": [],
   "source": [
    "\n",
    "\n",
    "from sagemaker.tuner import CategoricalParameter,ContinuousParameter,HyperparameterTuner\n",
    "\n",
    "hyperparameter_ranges={\n",
    "    \"learning_rate\":ContinuousParameter(0.01,0.1),\n",
    "    \"mini_batch_size\":CategoricalParameter([8,16,32]),\n",
    "    \"optimizer\":CategoricalParameter([\"sgd\",\"adam\"])\n",
    "}\n",
    "\n"
   ]
  },
  {
   "cell_type": "code",
   "execution_count": null,
   "id": "b2ef1590-b7c8-4313-a7f2-82d86d0397cd",
   "metadata": {
    "tags": []
   },
   "outputs": [],
   "source": [
    "\n",
    "\n",
    "objective_metric_name=\"validation:accuracy\"\n",
    "objective_type=\"Maximize\"\n",
    "max_jobs=5\n",
    "max_parallel_jobs=1\n",
    "\n"
   ]
  },
  {
   "cell_type": "code",
   "execution_count": null,
   "id": "5c05fce5-9002-4cd3-ac38-34041ad59da1",
   "metadata": {
    "tags": []
   },
   "outputs": [],
   "source": [
    "tuner=HyperparameterTuner(estimator=img_classifier_model,\n",
    "                         objective_metric_name=objective_metric_name,\n",
    "                         hyperparameter_ranges=hyperparameter_ranges,\n",
    "                         objective_type=objective_type,\n",
    "                         max_jobs=max_jobs,\n",
    "                         max_parallel_jobs=max_parallel_jobs  \n",
    "                         )"
   ]
  },
  {
   "cell_type": "code",
   "execution_count": null,
   "id": "5fd0159b-ef87-41a9-b226-66715a012ea8",
   "metadata": {
    "tags": []
   },
   "outputs": [],
   "source": [
    "from sagemaker.session import TrainingInput\n",
    "\n",
    "model_inputs={\n",
    "    \"train\":sagemaker.inputs.TrainingInput(s3_data=f\"s3://{bucket}/train/\",content_type=\"application/x-image\"),\n",
    "    \"validation\":sagemaker.inputs.TrainingInput(s3_data=f\"s3://{bucket}/test/\",content_type=\"application/x-image\"),\n",
    "    \"train_lst\":sagemaker.inputs.TrainingInput(s3_data=f\"s3://{bucket}/train.lst\",content_type=\"application/x-image\"),\n",
    "    \"validation_lst\":sagemaker.inputs.TrainingInput(s3_data=f\"s3://{bucket}/test.lst\",content_type=\"application/x-image\"),\n",
    "}"
   ]
  },
  {
   "cell_type": "code",
   "execution_count": null,
   "id": "9abfafa1-d86f-4b0e-93c0-a8d1eb9a4ad1",
   "metadata": {
    "tags": []
   },
   "outputs": [],
   "source": [
    "\n",
    "\n",
    "import time \n",
    "job_name_prefix=\"classifier\"\n",
    "timestamp=time.strftime(\"-%Y-%m-%d-%H-%M-%S\",time.gmtime())\n",
    "job_name=job_name_prefix+timestamp\n",
    "\n"
   ]
  },
  {
   "cell_type": "code",
   "execution_count": null,
   "id": "6f44e3a1-6579-416f-9595-cb528b8ee331",
   "metadata": {
    "tags": []
   },
   "outputs": [],
   "source": [
    "tuner.fit(inputs=model_inputs,job_name=job_name,logs=True)"
   ]
  },
  {
   "cell_type": "code",
   "execution_count": 5,
   "id": "983490f8-11a9-4a71-a762-88906a548e05",
   "metadata": {
    "tags": []
   },
   "outputs": [],
   "source": [
    "\n",
    "\n",
    "import sagemaker\n",
    "from sagemaker import get_execution_role\n",
    "\n"
   ]
  },
  {
   "cell_type": "code",
   "execution_count": 6,
   "id": "417cc43e-1817-40cf-8777-f9ec1d2e92b2",
   "metadata": {
    "tags": []
   },
   "outputs": [
    {
     "name": "stdout",
     "output_type": "stream",
     "text": [
      "sagemaker.config INFO - Not applying SDK defaults from location: /etc/xdg/sagemaker/config.yaml\n",
      "sagemaker.config INFO - Not applying SDK defaults from location: /root/.config/sagemaker/config.yaml\n"
     ]
    }
   ],
   "source": [
    "role=get_execution_role()"
   ]
  },
  {
   "cell_type": "code",
   "execution_count": 7,
   "id": "5e2d745f-b03f-42eb-adcd-726184aa6f31",
   "metadata": {
    "tags": []
   },
   "outputs": [
    {
     "name": "stdout",
     "output_type": "stream",
     "text": [
      "sagemaker.config INFO - Not applying SDK defaults from location: /etc/xdg/sagemaker/config.yaml\n",
      "sagemaker.config INFO - Not applying SDK defaults from location: /root/.config/sagemaker/config.yaml\n"
     ]
    }
   ],
   "source": [
    "\n",
    "\n",
    "model=sagemaker.model.Model(\n",
    "image_uri=algorithm_image,\n",
    "model_data='s3://testimages010/models/image_model/classifier-2023-10-09-19-12-12-004-ab7a79fa/output/model.tar.gz',\n",
    "role=role)\n",
    "\n"
   ]
  },
  {
   "cell_type": "code",
   "execution_count": 8,
   "id": "a9227c87-dc95-4b1f-81f7-7f7be52854da",
   "metadata": {
    "tags": []
   },
   "outputs": [
    {
     "name": "stdout",
     "output_type": "stream",
     "text": [
      "sagemaker.config INFO - Not applying SDK defaults from location: /etc/xdg/sagemaker/config.yaml\n",
      "sagemaker.config INFO - Not applying SDK defaults from location: /root/.config/sagemaker/config.yaml\n",
      "--------!"
     ]
    }
   ],
   "source": [
    "\n",
    "\n",
    "endpoint_name='helloworld'\n",
    "\n",
    "deployment=model.deploy(\n",
    "initial_instance_count=1,\n",
    "instance_type='ml.m4.xlarge',\n",
    "endpoint_name=endpoint_name)\n",
    "\n"
   ]
  },
  {
   "cell_type": "code",
   "execution_count": 18,
   "id": "73b075aa-f9f8-4aa6-8944-17631e2821e6",
   "metadata": {},
   "outputs": [
    {
     "name": "stdout",
     "output_type": "stream",
     "text": [
      "sagemaker.config INFO - Not applying SDK defaults from location: /etc/xdg/sagemaker/config.yaml\n",
      "sagemaker.config INFO - Not applying SDK defaults from location: /root/.config/sagemaker/config.yaml\n",
      "b'[0.07610847800970078, 0.923891544342041]'\n"
     ]
    }
   ],
   "source": [
    "\n",
    "\n",
    "from sagemaker.predictor import Predictor\n",
    "predictor=Predictor(endpoint_name)\n",
    "\n",
    "\n",
    "\n",
    "from sagemaker.serializers import IdentitySerializer\n",
    "import base64\n",
    "\n",
    "file_name='data/chest_xray/val/val_pneumonia4.jpeg'\n",
    "\n",
    "predictor.serializer= IdentitySerializer(\"image/jpeg\")\n",
    "with open(file_name,\"rb\")as f:\n",
    "    payload=f.read()\n",
    "    \n",
    "inference=predictor.predict(data=payload)\n",
    "print(inference)\n",
    "\n"
   ]
  },
  {
   "cell_type": "code",
   "execution_count": 10,
   "id": "ad9b64e7-ab8b-4ae8-93ef-da466727e26a",
   "metadata": {
    "tags": []
   },
   "outputs": [
    {
     "name": "stdout",
     "output_type": "stream",
     "text": [
      "[0, 1, 0, 1, 0, 1, 0, 1, 0, 1, 1, 0, 1, 0, 1, 0]\n",
      "[1, 1, 1, 1, 1, 1, 1, 1, 1, 1, 1, 1, 1, 1, 1, 1]\n"
     ]
    }
   ],
   "source": [
    "\n",
    "\n",
    "import glob\n",
    "import json\n",
    "import numpy as np\n",
    "file_path='data/chest_xray/val/*.jpeg'\n",
    "files=glob.glob(file_path)\n",
    "\n",
    "y_true=[]\n",
    "y_pred=[]\n",
    "\n",
    "def make_pred():\n",
    "    for file in files:\n",
    "        if \"normal\" in file:\n",
    "            with open(file,\"rb\") as f:\n",
    "                payload=f.read()\n",
    "                inference=predictor.predict(data=payload).decode(\"utf-8\")\n",
    "                result=json.loads(inference)\n",
    "                predicted_class=np.argmax(result)\n",
    "                y_true.append(0)\n",
    "                y_pred.append(predicted_class)\n",
    "        elif \"pneumonia\" in file:\n",
    "            with open(file,\"rb\") as f:\n",
    "                payload=f.read()\n",
    "                inference=predictor.predict(data=payload).decode(\"utf-8\")\n",
    "                result=json.loads(inference)\n",
    "                predicted_class=np.argmax(result)\n",
    "                y_true.append(1)\n",
    "                y_pred.append(predicted_class)\n",
    "\n",
    "make_pred()\n",
    "print(y_true)\n",
    "print(y_pred)\n",
    "\n"
   ]
  },
  {
   "cell_type": "code",
   "execution_count": 11,
   "id": "dd2bfd86-5f46-4a5f-ba47-e72051d4cc46",
   "metadata": {
    "tags": []
   },
   "outputs": [
    {
     "data": {
      "text/plain": [
       "array([[0, 8],\n",
       "       [0, 8]])"
      ]
     },
     "execution_count": 11,
     "metadata": {},
     "output_type": "execute_result"
    }
   ],
   "source": [
    "from sklearn.metrics import confusion_matrix\n",
    "\n",
    "confusion_matrix(y_true,y_pred)"
   ]
  },
  {
   "cell_type": "code",
   "execution_count": null,
   "id": "ac9495f4-4b4c-40b9-a6c5-e72ffbad41c4",
   "metadata": {},
   "outputs": [],
   "source": []
  }
 ],
 "metadata": {
  "availableInstances": [
   {
    "_defaultOrder": 0,
    "_isFastLaunch": true,
    "category": "General purpose",
    "gpuNum": 0,
    "hideHardwareSpecs": false,
    "memoryGiB": 4,
    "name": "ml.t3.medium",
    "vcpuNum": 2
   },
   {
    "_defaultOrder": 1,
    "_isFastLaunch": false,
    "category": "General purpose",
    "gpuNum": 0,
    "hideHardwareSpecs": false,
    "memoryGiB": 8,
    "name": "ml.t3.large",
    "vcpuNum": 2
   },
   {
    "_defaultOrder": 2,
    "_isFastLaunch": false,
    "category": "General purpose",
    "gpuNum": 0,
    "hideHardwareSpecs": false,
    "memoryGiB": 16,
    "name": "ml.t3.xlarge",
    "vcpuNum": 4
   },
   {
    "_defaultOrder": 3,
    "_isFastLaunch": false,
    "category": "General purpose",
    "gpuNum": 0,
    "hideHardwareSpecs": false,
    "memoryGiB": 32,
    "name": "ml.t3.2xlarge",
    "vcpuNum": 8
   },
   {
    "_defaultOrder": 4,
    "_isFastLaunch": true,
    "category": "General purpose",
    "gpuNum": 0,
    "hideHardwareSpecs": false,
    "memoryGiB": 8,
    "name": "ml.m5.large",
    "vcpuNum": 2
   },
   {
    "_defaultOrder": 5,
    "_isFastLaunch": false,
    "category": "General purpose",
    "gpuNum": 0,
    "hideHardwareSpecs": false,
    "memoryGiB": 16,
    "name": "ml.m5.xlarge",
    "vcpuNum": 4
   },
   {
    "_defaultOrder": 6,
    "_isFastLaunch": false,
    "category": "General purpose",
    "gpuNum": 0,
    "hideHardwareSpecs": false,
    "memoryGiB": 32,
    "name": "ml.m5.2xlarge",
    "vcpuNum": 8
   },
   {
    "_defaultOrder": 7,
    "_isFastLaunch": false,
    "category": "General purpose",
    "gpuNum": 0,
    "hideHardwareSpecs": false,
    "memoryGiB": 64,
    "name": "ml.m5.4xlarge",
    "vcpuNum": 16
   },
   {
    "_defaultOrder": 8,
    "_isFastLaunch": false,
    "category": "General purpose",
    "gpuNum": 0,
    "hideHardwareSpecs": false,
    "memoryGiB": 128,
    "name": "ml.m5.8xlarge",
    "vcpuNum": 32
   },
   {
    "_defaultOrder": 9,
    "_isFastLaunch": false,
    "category": "General purpose",
    "gpuNum": 0,
    "hideHardwareSpecs": false,
    "memoryGiB": 192,
    "name": "ml.m5.12xlarge",
    "vcpuNum": 48
   },
   {
    "_defaultOrder": 10,
    "_isFastLaunch": false,
    "category": "General purpose",
    "gpuNum": 0,
    "hideHardwareSpecs": false,
    "memoryGiB": 256,
    "name": "ml.m5.16xlarge",
    "vcpuNum": 64
   },
   {
    "_defaultOrder": 11,
    "_isFastLaunch": false,
    "category": "General purpose",
    "gpuNum": 0,
    "hideHardwareSpecs": false,
    "memoryGiB": 384,
    "name": "ml.m5.24xlarge",
    "vcpuNum": 96
   },
   {
    "_defaultOrder": 12,
    "_isFastLaunch": false,
    "category": "General purpose",
    "gpuNum": 0,
    "hideHardwareSpecs": false,
    "memoryGiB": 8,
    "name": "ml.m5d.large",
    "vcpuNum": 2
   },
   {
    "_defaultOrder": 13,
    "_isFastLaunch": false,
    "category": "General purpose",
    "gpuNum": 0,
    "hideHardwareSpecs": false,
    "memoryGiB": 16,
    "name": "ml.m5d.xlarge",
    "vcpuNum": 4
   },
   {
    "_defaultOrder": 14,
    "_isFastLaunch": false,
    "category": "General purpose",
    "gpuNum": 0,
    "hideHardwareSpecs": false,
    "memoryGiB": 32,
    "name": "ml.m5d.2xlarge",
    "vcpuNum": 8
   },
   {
    "_defaultOrder": 15,
    "_isFastLaunch": false,
    "category": "General purpose",
    "gpuNum": 0,
    "hideHardwareSpecs": false,
    "memoryGiB": 64,
    "name": "ml.m5d.4xlarge",
    "vcpuNum": 16
   },
   {
    "_defaultOrder": 16,
    "_isFastLaunch": false,
    "category": "General purpose",
    "gpuNum": 0,
    "hideHardwareSpecs": false,
    "memoryGiB": 128,
    "name": "ml.m5d.8xlarge",
    "vcpuNum": 32
   },
   {
    "_defaultOrder": 17,
    "_isFastLaunch": false,
    "category": "General purpose",
    "gpuNum": 0,
    "hideHardwareSpecs": false,
    "memoryGiB": 192,
    "name": "ml.m5d.12xlarge",
    "vcpuNum": 48
   },
   {
    "_defaultOrder": 18,
    "_isFastLaunch": false,
    "category": "General purpose",
    "gpuNum": 0,
    "hideHardwareSpecs": false,
    "memoryGiB": 256,
    "name": "ml.m5d.16xlarge",
    "vcpuNum": 64
   },
   {
    "_defaultOrder": 19,
    "_isFastLaunch": false,
    "category": "General purpose",
    "gpuNum": 0,
    "hideHardwareSpecs": false,
    "memoryGiB": 384,
    "name": "ml.m5d.24xlarge",
    "vcpuNum": 96
   },
   {
    "_defaultOrder": 20,
    "_isFastLaunch": false,
    "category": "General purpose",
    "gpuNum": 0,
    "hideHardwareSpecs": true,
    "memoryGiB": 0,
    "name": "ml.geospatial.interactive",
    "supportedImageNames": [
     "sagemaker-geospatial-v1-0"
    ],
    "vcpuNum": 0
   },
   {
    "_defaultOrder": 21,
    "_isFastLaunch": true,
    "category": "Compute optimized",
    "gpuNum": 0,
    "hideHardwareSpecs": false,
    "memoryGiB": 4,
    "name": "ml.c5.large",
    "vcpuNum": 2
   },
   {
    "_defaultOrder": 22,
    "_isFastLaunch": false,
    "category": "Compute optimized",
    "gpuNum": 0,
    "hideHardwareSpecs": false,
    "memoryGiB": 8,
    "name": "ml.c5.xlarge",
    "vcpuNum": 4
   },
   {
    "_defaultOrder": 23,
    "_isFastLaunch": false,
    "category": "Compute optimized",
    "gpuNum": 0,
    "hideHardwareSpecs": false,
    "memoryGiB": 16,
    "name": "ml.c5.2xlarge",
    "vcpuNum": 8
   },
   {
    "_defaultOrder": 24,
    "_isFastLaunch": false,
    "category": "Compute optimized",
    "gpuNum": 0,
    "hideHardwareSpecs": false,
    "memoryGiB": 32,
    "name": "ml.c5.4xlarge",
    "vcpuNum": 16
   },
   {
    "_defaultOrder": 25,
    "_isFastLaunch": false,
    "category": "Compute optimized",
    "gpuNum": 0,
    "hideHardwareSpecs": false,
    "memoryGiB": 72,
    "name": "ml.c5.9xlarge",
    "vcpuNum": 36
   },
   {
    "_defaultOrder": 26,
    "_isFastLaunch": false,
    "category": "Compute optimized",
    "gpuNum": 0,
    "hideHardwareSpecs": false,
    "memoryGiB": 96,
    "name": "ml.c5.12xlarge",
    "vcpuNum": 48
   },
   {
    "_defaultOrder": 27,
    "_isFastLaunch": false,
    "category": "Compute optimized",
    "gpuNum": 0,
    "hideHardwareSpecs": false,
    "memoryGiB": 144,
    "name": "ml.c5.18xlarge",
    "vcpuNum": 72
   },
   {
    "_defaultOrder": 28,
    "_isFastLaunch": false,
    "category": "Compute optimized",
    "gpuNum": 0,
    "hideHardwareSpecs": false,
    "memoryGiB": 192,
    "name": "ml.c5.24xlarge",
    "vcpuNum": 96
   },
   {
    "_defaultOrder": 29,
    "_isFastLaunch": true,
    "category": "Accelerated computing",
    "gpuNum": 1,
    "hideHardwareSpecs": false,
    "memoryGiB": 16,
    "name": "ml.g4dn.xlarge",
    "vcpuNum": 4
   },
   {
    "_defaultOrder": 30,
    "_isFastLaunch": false,
    "category": "Accelerated computing",
    "gpuNum": 1,
    "hideHardwareSpecs": false,
    "memoryGiB": 32,
    "name": "ml.g4dn.2xlarge",
    "vcpuNum": 8
   },
   {
    "_defaultOrder": 31,
    "_isFastLaunch": false,
    "category": "Accelerated computing",
    "gpuNum": 1,
    "hideHardwareSpecs": false,
    "memoryGiB": 64,
    "name": "ml.g4dn.4xlarge",
    "vcpuNum": 16
   },
   {
    "_defaultOrder": 32,
    "_isFastLaunch": false,
    "category": "Accelerated computing",
    "gpuNum": 1,
    "hideHardwareSpecs": false,
    "memoryGiB": 128,
    "name": "ml.g4dn.8xlarge",
    "vcpuNum": 32
   },
   {
    "_defaultOrder": 33,
    "_isFastLaunch": false,
    "category": "Accelerated computing",
    "gpuNum": 4,
    "hideHardwareSpecs": false,
    "memoryGiB": 192,
    "name": "ml.g4dn.12xlarge",
    "vcpuNum": 48
   },
   {
    "_defaultOrder": 34,
    "_isFastLaunch": false,
    "category": "Accelerated computing",
    "gpuNum": 1,
    "hideHardwareSpecs": false,
    "memoryGiB": 256,
    "name": "ml.g4dn.16xlarge",
    "vcpuNum": 64
   },
   {
    "_defaultOrder": 35,
    "_isFastLaunch": false,
    "category": "Accelerated computing",
    "gpuNum": 1,
    "hideHardwareSpecs": false,
    "memoryGiB": 61,
    "name": "ml.p3.2xlarge",
    "vcpuNum": 8
   },
   {
    "_defaultOrder": 36,
    "_isFastLaunch": false,
    "category": "Accelerated computing",
    "gpuNum": 4,
    "hideHardwareSpecs": false,
    "memoryGiB": 244,
    "name": "ml.p3.8xlarge",
    "vcpuNum": 32
   },
   {
    "_defaultOrder": 37,
    "_isFastLaunch": false,
    "category": "Accelerated computing",
    "gpuNum": 8,
    "hideHardwareSpecs": false,
    "memoryGiB": 488,
    "name": "ml.p3.16xlarge",
    "vcpuNum": 64
   },
   {
    "_defaultOrder": 38,
    "_isFastLaunch": false,
    "category": "Accelerated computing",
    "gpuNum": 8,
    "hideHardwareSpecs": false,
    "memoryGiB": 768,
    "name": "ml.p3dn.24xlarge",
    "vcpuNum": 96
   },
   {
    "_defaultOrder": 39,
    "_isFastLaunch": false,
    "category": "Memory Optimized",
    "gpuNum": 0,
    "hideHardwareSpecs": false,
    "memoryGiB": 16,
    "name": "ml.r5.large",
    "vcpuNum": 2
   },
   {
    "_defaultOrder": 40,
    "_isFastLaunch": false,
    "category": "Memory Optimized",
    "gpuNum": 0,
    "hideHardwareSpecs": false,
    "memoryGiB": 32,
    "name": "ml.r5.xlarge",
    "vcpuNum": 4
   },
   {
    "_defaultOrder": 41,
    "_isFastLaunch": false,
    "category": "Memory Optimized",
    "gpuNum": 0,
    "hideHardwareSpecs": false,
    "memoryGiB": 64,
    "name": "ml.r5.2xlarge",
    "vcpuNum": 8
   },
   {
    "_defaultOrder": 42,
    "_isFastLaunch": false,
    "category": "Memory Optimized",
    "gpuNum": 0,
    "hideHardwareSpecs": false,
    "memoryGiB": 128,
    "name": "ml.r5.4xlarge",
    "vcpuNum": 16
   },
   {
    "_defaultOrder": 43,
    "_isFastLaunch": false,
    "category": "Memory Optimized",
    "gpuNum": 0,
    "hideHardwareSpecs": false,
    "memoryGiB": 256,
    "name": "ml.r5.8xlarge",
    "vcpuNum": 32
   },
   {
    "_defaultOrder": 44,
    "_isFastLaunch": false,
    "category": "Memory Optimized",
    "gpuNum": 0,
    "hideHardwareSpecs": false,
    "memoryGiB": 384,
    "name": "ml.r5.12xlarge",
    "vcpuNum": 48
   },
   {
    "_defaultOrder": 45,
    "_isFastLaunch": false,
    "category": "Memory Optimized",
    "gpuNum": 0,
    "hideHardwareSpecs": false,
    "memoryGiB": 512,
    "name": "ml.r5.16xlarge",
    "vcpuNum": 64
   },
   {
    "_defaultOrder": 46,
    "_isFastLaunch": false,
    "category": "Memory Optimized",
    "gpuNum": 0,
    "hideHardwareSpecs": false,
    "memoryGiB": 768,
    "name": "ml.r5.24xlarge",
    "vcpuNum": 96
   },
   {
    "_defaultOrder": 47,
    "_isFastLaunch": false,
    "category": "Accelerated computing",
    "gpuNum": 1,
    "hideHardwareSpecs": false,
    "memoryGiB": 16,
    "name": "ml.g5.xlarge",
    "vcpuNum": 4
   },
   {
    "_defaultOrder": 48,
    "_isFastLaunch": false,
    "category": "Accelerated computing",
    "gpuNum": 1,
    "hideHardwareSpecs": false,
    "memoryGiB": 32,
    "name": "ml.g5.2xlarge",
    "vcpuNum": 8
   },
   {
    "_defaultOrder": 49,
    "_isFastLaunch": false,
    "category": "Accelerated computing",
    "gpuNum": 1,
    "hideHardwareSpecs": false,
    "memoryGiB": 64,
    "name": "ml.g5.4xlarge",
    "vcpuNum": 16
   },
   {
    "_defaultOrder": 50,
    "_isFastLaunch": false,
    "category": "Accelerated computing",
    "gpuNum": 1,
    "hideHardwareSpecs": false,
    "memoryGiB": 128,
    "name": "ml.g5.8xlarge",
    "vcpuNum": 32
   },
   {
    "_defaultOrder": 51,
    "_isFastLaunch": false,
    "category": "Accelerated computing",
    "gpuNum": 1,
    "hideHardwareSpecs": false,
    "memoryGiB": 256,
    "name": "ml.g5.16xlarge",
    "vcpuNum": 64
   },
   {
    "_defaultOrder": 52,
    "_isFastLaunch": false,
    "category": "Accelerated computing",
    "gpuNum": 4,
    "hideHardwareSpecs": false,
    "memoryGiB": 192,
    "name": "ml.g5.12xlarge",
    "vcpuNum": 48
   },
   {
    "_defaultOrder": 53,
    "_isFastLaunch": false,
    "category": "Accelerated computing",
    "gpuNum": 4,
    "hideHardwareSpecs": false,
    "memoryGiB": 384,
    "name": "ml.g5.24xlarge",
    "vcpuNum": 96
   },
   {
    "_defaultOrder": 54,
    "_isFastLaunch": false,
    "category": "Accelerated computing",
    "gpuNum": 8,
    "hideHardwareSpecs": false,
    "memoryGiB": 768,
    "name": "ml.g5.48xlarge",
    "vcpuNum": 192
   },
   {
    "_defaultOrder": 55,
    "_isFastLaunch": false,
    "category": "Accelerated computing",
    "gpuNum": 8,
    "hideHardwareSpecs": false,
    "memoryGiB": 1152,
    "name": "ml.p4d.24xlarge",
    "vcpuNum": 96
   },
   {
    "_defaultOrder": 56,
    "_isFastLaunch": false,
    "category": "Accelerated computing",
    "gpuNum": 8,
    "hideHardwareSpecs": false,
    "memoryGiB": 1152,
    "name": "ml.p4de.24xlarge",
    "vcpuNum": 96
   }
  ],
  "instance_type": "ml.t3.medium",
  "kernelspec": {
   "display_name": "Python 3 (Data Science 3.0)",
   "language": "python",
   "name": "python3__SAGEMAKER_INTERNAL__arn:aws:sagemaker:us-west-2:236514542706:image/sagemaker-data-science-310-v1"
  },
  "language_info": {
   "codemirror_mode": {
    "name": "ipython",
    "version": 3
   },
   "file_extension": ".py",
   "mimetype": "text/x-python",
   "name": "python",
   "nbconvert_exporter": "python",
   "pygments_lexer": "ipython3",
   "version": "3.10.6"
  }
 },
 "nbformat": 4,
 "nbformat_minor": 5
}
