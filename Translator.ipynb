{
  "nbformat": 4,
  "nbformat_minor": 0,
  "metadata": {
    "colab": {
      "provenance": [],
      "include_colab_link": true
    },
    "kernelspec": {
      "name": "python3",
      "display_name": "Python 3"
    }
  },
  "cells": [
    {
      "cell_type": "markdown",
      "metadata": {
        "id": "view-in-github",
        "colab_type": "text"
      },
      "source": [
        "<a href=\"https://colab.research.google.com/github/chenliyo99/pyspark/blob/main/Translator.ipynb\" target=\"_parent\"><img src=\"https://colab.research.google.com/assets/colab-badge.svg\" alt=\"Open In Colab\"/></a>"
      ]
    },
    {
      "cell_type": "markdown",
      "metadata": {
        "id": "q_o7gzOdfLZi"
      },
      "source": [
        "# Translate"
      ]
    },
    {
      "cell_type": "code",
      "metadata": {
        "id": "3FiZaQ4_q0PI"
      },
      "source": [
        "base_url = 'api.cognitive.microsofttranslator.com'\n",
        "key = '66f786df7aad4764ab35934e27a532c2'"
      ],
      "execution_count": null,
      "outputs": []
    },
    {
      "cell_type": "code",
      "metadata": {
        "colab": {
          "base_uri": "https://localhost:8080/"
        },
        "id": "ZXZ9Yt16rGGU",
        "outputId": "84fc3540-78f6-4c9b-ff04-5d3ff4e7a9cd"
      },
      "source": [
        "import urllib, urllib.parse, urllib.error, urllib.request, json, http.client\n",
        "\n",
        "headers = {\n",
        "    'Content-Type':'application/json',\n",
        "    'Ocp-Apim-Subscription-Key':key,\n",
        "    'Ocp-Apim-Subscription-Region':'southcentralus'\n",
        "}\n",
        "\n",
        "body = [\n",
        "  {\n",
        "      'Text':'Hola mundo, ¿cómo están?'\n",
        "  },\n",
        "  {\n",
        "      'Text':'Bon jour, mon amie!'\n",
        "  },\n",
        "  {\n",
        "      'Text':'你好吗?'\n",
        "  }\n",
        "]\n",
        "\n",
        "params = urllib.parse.urlencode({\n",
        "    'api-version':'3.0',\n",
        "    'to':'de'\n",
        "})\n",
        "\n",
        "print(params)"
      ],
      "execution_count": null,
      "outputs": [
        {
          "output_type": "stream",
          "text": [
            "api-version=3.0&to=de\n"
          ],
          "name": "stdout"
        }
      ]
    },
    {
      "cell_type": "code",
      "metadata": {
        "colab": {
          "base_uri": "https://localhost:8080/"
        },
        "id": "L8ITYIJXsLN7",
        "outputId": "88ffa35b-2d3c-40ff-f6b8-e6a6843a3143"
      },
      "source": [
        "try:\n",
        "  conn = http.client.HTTPSConnection(base_url)\n",
        "  conn.request('POST', '/translate?%s&to=it&to=en' % params, str(body).encode('UTF-8'), headers)\n",
        "  response = conn.getresponse()\n",
        "  jsonData = response.read().decode('UTF-8')\n",
        "  data = json.loads(jsonData)\n",
        "  print(data)\n",
        "  conn.close()\n",
        "except Exception as ex:\n",
        "  print(ex)"
      ],
      "execution_count": null,
      "outputs": [
        {
          "output_type": "stream",
          "text": [
            "[{'translations': [{'text': 'Hallo Welt, wie geht es dir?', 'to': 'de'}, {'text': 'Ciao mondo, come stai?', 'to': 'it'}, {'text': 'Hi world, how are you?', 'to': 'en'}]}, {'translations': [{'text': 'Bon jour, mon amie!', 'to': 'de'}, {'text': 'Buon jour, mon amie!', 'to': 'it'}, {'text': 'Bon jour, mon amie!', 'to': 'en'}]}, {'translations': [{'text': '你好吗?', 'to': 'de'}, {'text': '你好吗?', 'to': 'it'}, {'text': '你好吗?', 'to': 'en'}]}]\n"
          ],
          "name": "stdout"
        }
      ]
    },
    {
      "cell_type": "markdown",
      "metadata": {
        "id": "WkLJYDwVfPic"
      },
      "source": [
        "# Identify Languages"
      ]
    },
    {
      "cell_type": "code",
      "metadata": {
        "id": "7L1AM6SFs_9r"
      },
      "source": [
        "ta_key = '150734c9b81f46f59a0062920ea74da7'\n",
        "ta_base_url = 'southcentralus.api.cognitive.microsoft.com'"
      ],
      "execution_count": null,
      "outputs": []
    },
    {
      "cell_type": "code",
      "metadata": {
        "id": "nxGMwpcLfidQ"
      },
      "source": [
        "ta_headers = {\n",
        "    'Content-Type':'application/json',\n",
        "    'Ocp-Apim-Subscription-Key':ta_key,\n",
        "}\n",
        "\n",
        "ta_body = {\n",
        "    'documents':[\n",
        "      {\n",
        "          'id':'1',\n",
        "          'text':'Hola a todos'\n",
        "      }\n",
        "    ]\n",
        "}\n",
        "\n",
        "ta_params = urllib.parse.urlencode({})"
      ],
      "execution_count": null,
      "outputs": []
    },
    {
      "cell_type": "code",
      "metadata": {
        "colab": {
          "base_uri": "https://localhost:8080/"
        },
        "id": "D_dsA9XNf5VJ",
        "outputId": "b9ea12d7-0f7b-4380-f034-6d82cab73b89"
      },
      "source": [
        "iso_name = 'en'\n",
        "\n",
        "try:\n",
        "  conn = http.client.HTTPSConnection(ta_base_url)\n",
        "  conn.request('POST', '/text/analytics/v2.1/languages?%s' % ta_params, str(ta_body), ta_headers)\n",
        "  response = conn.getresponse()\n",
        "  jsonData = response.read().decode('UTF-8')\n",
        "  data = json.loads(jsonData)\n",
        "  for document in data['documents']:\n",
        "    print('Document ' + document['id'])\n",
        "    for lan in document['detectedLanguages']:\n",
        "      iso_name = lan['iso6391Name']\n",
        "      print(' ' + lan['iso6391Name'])\n",
        "  conn.close()\n",
        "except Exception as ex:\n",
        "  print(ex)"
      ],
      "execution_count": null,
      "outputs": [
        {
          "output_type": "stream",
          "text": [
            "Document 1\n",
            " es\n"
          ],
          "name": "stdout"
        }
      ]
    },
    {
      "cell_type": "code",
      "metadata": {
        "id": "8shC-mC4gkJT"
      },
      "source": [
        "params = urllib.parse.urlencode({\n",
        "    'api-version':'3.0',\n",
        "    'to':'de',\n",
        "    'from':iso_name\n",
        "})"
      ],
      "execution_count": null,
      "outputs": []
    },
    {
      "cell_type": "code",
      "metadata": {
        "id": "T_rn39G9igX2"
      },
      "source": [],
      "execution_count": null,
      "outputs": []
    }
  ]
}