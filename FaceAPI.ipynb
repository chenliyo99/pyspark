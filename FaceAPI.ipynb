{
  "nbformat": 4,
  "nbformat_minor": 0,
  "metadata": {
    "colab": {
      "provenance": [],
      "include_colab_link": true
    },
    "kernelspec": {
      "name": "python3",
      "display_name": "Python 3"
    }
  },
  "cells": [
    {
      "cell_type": "markdown",
      "metadata": {
        "id": "view-in-github",
        "colab_type": "text"
      },
      "source": [
        "<a href=\"https://colab.research.google.com/github/chenliyo99/pyspark/blob/main/FaceAPI.ipynb\" target=\"_parent\"><img src=\"https://colab.research.google.com/assets/colab-badge.svg\" alt=\"Open In Colab\"/></a>"
      ]
    },
    {
      "cell_type": "markdown",
      "metadata": {
        "id": "AKzKzQL_PAx7"
      },
      "source": [
        "# Detect Faces"
      ]
    },
    {
      "cell_type": "code",
      "metadata": {
        "id": "6tcESTiXEwfX"
      },
      "source": [
        "subscription_key = 'e678c85180174dc7a7e1f457949dddde'"
      ],
      "execution_count": null,
      "outputs": []
    },
    {
      "cell_type": "code",
      "metadata": {
        "colab": {
          "base_uri": "https://localhost:8080/"
        },
        "id": "mZAoizP1E4mZ",
        "outputId": "07686369-d453-4bf0-b804-f461b09a73c6"
      },
      "source": [
        "import urllib.parse, http.client, json\n",
        "\n",
        "headers = {\n",
        "    'Ocp-Apim-subscription-Key':subscription_key,\n",
        "    'Content-Type':'application/json'\n",
        "}\n",
        "\n",
        "body = {\n",
        "    'url':'https://upload.wikimedia.org/wikipedia/commons/thumb/0/0f/Angela_Merkel_2019_cropped.jpg/1200px-Angela_Merkel_2019_cropped.jpg'\n",
        "}\n",
        "\n",
        "params = urllib.parse.urlencode({\n",
        "    'returnFaceId':True,\n",
        "    'returnFaceLandmarks':True,\n",
        "    'returnFaceAttributes':'age,gender,makeup,smile,glasses,accessories,emotion'\n",
        "})\n",
        "\n",
        "url = 'southcentralus.api.cognitive.microsoft.com'\n",
        "\n",
        "endpoint = '/face/v1.0/detect?%s'\n",
        "\n",
        "try:\n",
        "  conn = http.client.HTTPSConnection(url)\n",
        "  conn.request('POST', endpoint % params, str(body), headers)\n",
        "  response = conn.getresponse()\n",
        "  jsonData = response.read()\n",
        "  data = json.loads(jsonData)\n",
        "  detect_face_id = data[0]['faceId']\n",
        "  print(json.dumps(data, sort_keys=True, indent=2))\n",
        "  conn.close()\n",
        "except Exception as ex:\n",
        "  print(ex)"
      ],
      "execution_count": null,
      "outputs": [
        {
          "output_type": "stream",
          "text": [
            "[\n",
            "  {\n",
            "    \"faceAttributes\": {\n",
            "      \"accessories\": [],\n",
            "      \"age\": 57.0,\n",
            "      \"emotion\": {\n",
            "        \"anger\": 0.0,\n",
            "        \"contempt\": 0.0,\n",
            "        \"disgust\": 0.0,\n",
            "        \"fear\": 0.0,\n",
            "        \"happiness\": 0.139,\n",
            "        \"neutral\": 0.861,\n",
            "        \"sadness\": 0.0,\n",
            "        \"surprise\": 0.0\n",
            "      },\n",
            "      \"gender\": \"female\",\n",
            "      \"glasses\": \"NoGlasses\",\n",
            "      \"makeup\": {\n",
            "        \"eyeMakeup\": false,\n",
            "        \"lipMakeup\": false\n",
            "      },\n",
            "      \"smile\": 0.139\n",
            "    },\n",
            "    \"faceId\": \"74c682a5-1128-4944-a699-df0529539aee\",\n",
            "    \"faceLandmarks\": {\n",
            "      \"eyeLeftBottom\": {\n",
            "        \"x\": 479.1,\n",
            "        \"y\": 549.3\n",
            "      },\n",
            "      \"eyeLeftInner\": {\n",
            "        \"x\": 515.1,\n",
            "        \"y\": 539.6\n",
            "      },\n",
            "      \"eyeLeftOuter\": {\n",
            "        \"x\": 444.0,\n",
            "        \"y\": 540.3\n",
            "      },\n",
            "      \"eyeLeftTop\": {\n",
            "        \"x\": 476.1,\n",
            "        \"y\": 518.8\n",
            "      },\n",
            "      \"eyeRightBottom\": {\n",
            "        \"x\": 737.4,\n",
            "        \"y\": 566.3\n",
            "      },\n",
            "      \"eyeRightInner\": {\n",
            "        \"x\": 702.0,\n",
            "        \"y\": 552.1\n",
            "      },\n",
            "      \"eyeRightOuter\": {\n",
            "        \"x\": 774.0,\n",
            "        \"y\": 561.9\n",
            "      },\n",
            "      \"eyeRightTop\": {\n",
            "        \"x\": 737.9,\n",
            "        \"y\": 534.1\n",
            "      },\n",
            "      \"eyebrowLeftInner\": {\n",
            "        \"x\": 555.2,\n",
            "        \"y\": 488.4\n",
            "      },\n",
            "      \"eyebrowLeftOuter\": {\n",
            "        \"x\": 372.3,\n",
            "        \"y\": 460.8\n",
            "      },\n",
            "      \"eyebrowRightInner\": {\n",
            "        \"x\": 664.7,\n",
            "        \"y\": 496.1\n",
            "      },\n",
            "      \"eyebrowRightOuter\": {\n",
            "        \"x\": 840.9,\n",
            "        \"y\": 497.7\n",
            "      },\n",
            "      \"mouthLeft\": {\n",
            "        \"x\": 487.1,\n",
            "        \"y\": 824.4\n",
            "      },\n",
            "      \"mouthRight\": {\n",
            "        \"x\": 691.5,\n",
            "        \"y\": 822.4\n",
            "      },\n",
            "      \"noseLeftAlarOutTip\": {\n",
            "        \"x\": 520.7,\n",
            "        \"y\": 694.1\n",
            "      },\n",
            "      \"noseLeftAlarTop\": {\n",
            "        \"x\": 546.8,\n",
            "        \"y\": 637.4\n",
            "      },\n",
            "      \"noseRightAlarOutTip\": {\n",
            "        \"x\": 679.0,\n",
            "        \"y\": 692.4\n",
            "      },\n",
            "      \"noseRightAlarTop\": {\n",
            "        \"x\": 660.9,\n",
            "        \"y\": 643.5\n",
            "      },\n",
            "      \"noseRootLeft\": {\n",
            "        \"x\": 571.4,\n",
            "        \"y\": 545.4\n",
            "      },\n",
            "      \"noseRootRight\": {\n",
            "        \"x\": 656.8,\n",
            "        \"y\": 550.0\n",
            "      },\n",
            "      \"noseTip\": {\n",
            "        \"x\": 600.0,\n",
            "        \"y\": 669.7\n",
            "      },\n",
            "      \"pupilLeft\": {\n",
            "        \"x\": 480.7,\n",
            "        \"y\": 532.8\n",
            "      },\n",
            "      \"pupilRight\": {\n",
            "        \"x\": 738.1,\n",
            "        \"y\": 550.0\n",
            "      },\n",
            "      \"underLipBottom\": {\n",
            "        \"x\": 593.8,\n",
            "        \"y\": 847.0\n",
            "      },\n",
            "      \"underLipTop\": {\n",
            "        \"x\": 592.8,\n",
            "        \"y\": 815.9\n",
            "      },\n",
            "      \"upperLipBottom\": {\n",
            "        \"x\": 594.6,\n",
            "        \"y\": 808.8\n",
            "      },\n",
            "      \"upperLipTop\": {\n",
            "        \"x\": 594.0,\n",
            "        \"y\": 786.6\n",
            "      }\n",
            "    },\n",
            "    \"faceRectangle\": {\n",
            "      \"height\": 582,\n",
            "      \"left\": 308,\n",
            "      \"top\": 383,\n",
            "      \"width\": 582\n",
            "    }\n",
            "  }\n",
            "]\n"
          ],
          "name": "stdout"
        }
      ]
    },
    {
      "cell_type": "markdown",
      "metadata": {
        "id": "pc976GNcPEA_"
      },
      "source": [
        "# Create a Group"
      ]
    },
    {
      "cell_type": "code",
      "metadata": {
        "colab": {
          "base_uri": "https://localhost:8080/"
        },
        "id": "9DTQjOXnG4_r",
        "outputId": "ce480283-5b31-42be-b06c-d14747e20d6c"
      },
      "source": [
        "group_id = 'random_people'\n",
        "\n",
        "group_body = {\n",
        "    'name':'Random People'\n",
        "}\n",
        "\n",
        "try:\n",
        "  conn = http.client.HTTPSConnection(url)\n",
        "  conn.request('PUT', '/face/v1.0/persongroups/%s' % group_id, str(group_body), headers)\n",
        "  response = conn.getresponse()\n",
        "  data = response.read()\n",
        "  print(data)\n",
        "  conn.close()\n",
        "except Exception as ex:\n",
        "  print(ex)"
      ],
      "execution_count": null,
      "outputs": [
        {
          "output_type": "stream",
          "text": [
            "b'{\"error\":{\"code\":\"PersonGroupExists\",\"message\":\"Person group \\'random_people\\' already exists.\"}}'\n"
          ],
          "name": "stdout"
        }
      ]
    },
    {
      "cell_type": "markdown",
      "metadata": {
        "id": "NZnOL5capTKe"
      },
      "source": [
        "# Adding person to group"
      ]
    },
    {
      "cell_type": "code",
      "metadata": {
        "colab": {
          "base_uri": "https://localhost:8080/"
        },
        "id": "wvMDion-TdcN",
        "outputId": "9efe3c2c-c41d-4d2f-d61b-0ba62828ce8f"
      },
      "source": [
        "person_body = {\n",
        "    'name':'Elizabeth'\n",
        "}\n",
        "\n",
        "person_endpoint = '/face/v1.0/persongroups/{0}/persons'.format(group_id)\n",
        "\n",
        "try:\n",
        "  conn = http.client.HTTPSConnection(url)\n",
        "  conn.request('POST', person_endpoint, str(person_body), headers)\n",
        "  response = conn.getresponse()\n",
        "  jsonData = response.read()\n",
        "  data = json.loads(jsonData)\n",
        "  print(data)\n",
        "  conn.close()\n",
        "except Exception as ex:\n",
        "  print(ex)"
      ],
      "execution_count": null,
      "outputs": [
        {
          "output_type": "stream",
          "text": [
            "{'personId': '29fb53f0-56ad-499d-a9d7-b763b6d938c5'}\n"
          ],
          "name": "stdout"
        }
      ]
    },
    {
      "cell_type": "code",
      "metadata": {
        "colab": {
          "base_uri": "https://localhost:8080/"
        },
        "id": "ujJqS2t8p8Wd",
        "outputId": "f9fb5c62-ad7c-453b-d88c-dcc6b1b9a008"
      },
      "source": [
        "group_id = 'random_people'\n",
        "\n",
        "endpoint = '/face/v1.0/persongroups/{0}/persons'.format(group_id)\n",
        "\n",
        "try:\n",
        "  conn = http.client.HTTPSConnection(url)\n",
        "  conn.request('GET', endpoint, '', headers)\n",
        "  response = conn.getresponse()\n",
        "  jsonData = response.read()\n",
        "  person_data = json.loads(jsonData)\n",
        "  print(json.dumps(person_data, sort_keys=True, indent=2))\n",
        "  conn.close()\n",
        "except Exception as ex:\n",
        "  print(ex)"
      ],
      "execution_count": null,
      "outputs": [
        {
          "output_type": "stream",
          "text": [
            "[\n",
            "  {\n",
            "    \"name\": \"Elizabeth\",\n",
            "    \"persistedFaceIds\": [\n",
            "      \"0aa6f776-ce53-4946-ad68-fd961bdd39ce\",\n",
            "      \"76eb3bbf-13cd-442d-9f5e-72066ada742e\",\n",
            "      \"fe074a09-621d-4dc9-a6f8-b475990734fb\"\n",
            "    ],\n",
            "    \"personId\": \"29fb53f0-56ad-499d-a9d7-b763b6d938c5\"\n",
            "  },\n",
            "  {\n",
            "    \"name\": \"Bill\",\n",
            "    \"persistedFaceIds\": [\n",
            "      \"1b42ee02-81c6-4cbb-89de-52bf1192e317\",\n",
            "      \"4c55c28d-3576-4e94-9a1d-86e4fb3c24d0\",\n",
            "      \"9da318d9-7cde-4c00-a1ec-652c6e33d26c\"\n",
            "    ],\n",
            "    \"personId\": \"c2f66164-4fbd-4a82-bb52-6ac2d92ce47c\"\n",
            "  },\n",
            "  {\n",
            "    \"name\": \"Angela\",\n",
            "    \"persistedFaceIds\": [\n",
            "      \"479e048d-7c02-4a15-9de4-340ee63f047e\",\n",
            "      \"a7f41db4-4225-412a-98bd-67350b43f285\",\n",
            "      \"fe8e8cf9-b479-4f66-8c81-a5a31cbc897f\"\n",
            "    ],\n",
            "    \"personId\": \"c47a577a-b74f-41af-9bd5-52863ad92fb0\"\n",
            "  }\n",
            "]\n"
          ],
          "name": "stdout"
        }
      ]
    },
    {
      "cell_type": "code",
      "metadata": {
        "colab": {
          "base_uri": "https://localhost:8080/"
        },
        "id": "K0Se4o_6sMwA",
        "outputId": "4a27fabb-1814-483e-bb14-756bc2828976"
      },
      "source": [
        "try:\n",
        "  conn = http.client.HTTPSConnection(url)\n",
        "  conn.request('DELETE', endpoint + '/f465cd5f-55fb-43e3-9852-471a2a11f50d', str(person_body), headers)\n",
        "  response = conn.getresponse()\n",
        "  jsonData = response.read()\n",
        "  print(jsonData)\n",
        "  conn.close()\n",
        "except Exception as ex:\n",
        "  print(ex)"
      ],
      "execution_count": null,
      "outputs": [
        {
          "output_type": "stream",
          "text": [
            "Expecting value: line 1 column 1 (char 0)\n"
          ],
          "name": "stdout"
        }
      ]
    },
    {
      "cell_type": "markdown",
      "metadata": {
        "id": "DiaGPX4Cr00p"
      },
      "source": [
        "# Adding faces to a person"
      ]
    },
    {
      "cell_type": "code",
      "metadata": {
        "colab": {
          "base_uri": "https://localhost:8080/"
        },
        "id": "IOOchh28qSwW",
        "outputId": "215036a6-63f8-485b-dca1-6ee609e3b204"
      },
      "source": [
        "import os\n",
        "\n",
        "person_group_id = 'random_people'\n",
        "\n",
        "url = 'southcentralus.api.cognitive.microsoft.com'\n",
        "\n",
        "headers = {\n",
        "    'Ocp-Apim-subscription-Key':subscription_key,\n",
        "    'Content-Type':'application/octet-stream'\n",
        "}\n",
        "\n",
        "for person in person_data:\n",
        "  face_endpoint = '/face/v1.0/persongroups/{0}/persons/{1}/persistedFaces'.format(group_id, person['personId'])\n",
        "  for file in os.listdir('people/'+person['name']):\n",
        "    with open('people/{0}/{1}'.format(person['name'], file), 'rb') as body:\n",
        "      conn = http.client.HTTPSConnection(url)\n",
        "      conn.request('POST', face_endpoint, body, headers)\n",
        "      response = conn.getresponse()\n",
        "      jsonData = response.read()\n",
        "      data = json.loads(jsonData)\n",
        "      print(data)\n",
        "      conn.close()"
      ],
      "execution_count": null,
      "outputs": [
        {
          "output_type": "stream",
          "text": [
            "{\n",
            "  \"persistedFaceId\": \"0aa6f776-ce53-4946-ad68-fd961bdd39ce\"\n",
            "}\n",
            "{\n",
            "  \"persistedFaceId\": \"76eb3bbf-13cd-442d-9f5e-72066ada742e\"\n",
            "}\n",
            "{\n",
            "  \"persistedFaceId\": \"fe074a09-621d-4dc9-a6f8-b475990734fb\"\n",
            "}\n",
            "{\n",
            "  \"persistedFaceId\": \"9da318d9-7cde-4c00-a1ec-652c6e33d26c\"\n",
            "}\n",
            "{\n",
            "  \"persistedFaceId\": \"1b42ee02-81c6-4cbb-89de-52bf1192e317\"\n",
            "}\n",
            "{\n",
            "  \"persistedFaceId\": \"4c55c28d-3576-4e94-9a1d-86e4fb3c24d0\"\n",
            "}\n",
            "{\n",
            "  \"persistedFaceId\": \"fe8e8cf9-b479-4f66-8c81-a5a31cbc897f\"\n",
            "}\n",
            "{\n",
            "  \"persistedFaceId\": \"a7f41db4-4225-412a-98bd-67350b43f285\"\n",
            "}\n",
            "{\n",
            "  \"persistedFaceId\": \"479e048d-7c02-4a15-9de4-340ee63f047e\"\n",
            "}\n"
          ],
          "name": "stdout"
        }
      ]
    },
    {
      "cell_type": "markdown",
      "metadata": {
        "id": "_QdmSRIxLy5z"
      },
      "source": [
        "# Identifying people"
      ]
    },
    {
      "cell_type": "code",
      "metadata": {
        "colab": {
          "base_uri": "https://localhost:8080/"
        },
        "id": "zqd0PMf4u5E-",
        "outputId": "c0ebec3c-d8b1-4290-ad2b-8973303bc17c"
      },
      "source": [
        "import urllib.parse, http.client, json\n",
        "\n",
        "url = 'southcentralus.api.cognitive.microsoft.com'\n",
        "\n",
        "train_headers = {\n",
        "    'Ocp-Apim-subscription-Key':subscription_key,\n",
        "}\n",
        "\n",
        "person_group_id = 'random_people'\n",
        "train_endpoint = '/face/v1.0/persongroups/{0}/train'.format(person_group_id)\n",
        "\n",
        "try:\n",
        "  conn = http.client.HTTPSConnection(url)\n",
        "  conn.request('POST', train_endpoint, '', train_headers)\n",
        "  response = conn.getresponse()\n",
        "  data = response.read()\n",
        "  print(data)\n",
        "  conn.close()\n",
        "except Exception as ex:\n",
        "  print(ex)"
      ],
      "execution_count": null,
      "outputs": [
        {
          "output_type": "stream",
          "text": [
            "b''\n"
          ],
          "name": "stdout"
        }
      ]
    },
    {
      "cell_type": "code",
      "metadata": {
        "colab": {
          "base_uri": "https://localhost:8080/"
        },
        "id": "y8G7JWfAM2A-",
        "outputId": "a3ef40bd-0033-4ea7-ec2d-fa12c3cffc7f"
      },
      "source": [
        "person_group_id = 'random_people'\n",
        "\n",
        "identify_endpoint = '/face/v1.0/identify'\n",
        "\n",
        "identify_headers = {\n",
        "    'Ocp-Apim-subscription-Key':subscription_key,\n",
        "}\n",
        "\n",
        "identify_body = {\n",
        "    'faceIds':[detect_face_id],\n",
        "    'personGroupId':person_group_id\n",
        "}\n",
        "\n",
        "try:\n",
        "  conn = http.client.HTTPSConnection(url)\n",
        "  conn.request('POST', identify_endpoint, str(identify_body), identify_headers)\n",
        "  response = conn.getresponse()\n",
        "  jsonData = response.read()\n",
        "  identify_data = json.loads(jsonData)\n",
        "  print(identify_data)\n",
        "  conn.close()\n",
        "except Exception as ex:\n",
        "  print(ex)"
      ],
      "execution_count": null,
      "outputs": [
        {
          "output_type": "stream",
          "text": [
            "[{'faceId': '74c682a5-1128-4944-a699-df0529539aee', 'candidates': [{'personId': 'c47a577a-b74f-41af-9bd5-52863ad92fb0', 'confidence': 0.8039}]}]\n"
          ],
          "name": "stdout"
        }
      ]
    },
    {
      "cell_type": "code",
      "metadata": {
        "colab": {
          "base_uri": "https://localhost:8080/"
        },
        "id": "6Ix2KVJ87SBn",
        "outputId": "9a7529ba-35d8-4d4d-cf20-41beb0649735"
      },
      "source": [
        "print(person_data)"
      ],
      "execution_count": null,
      "outputs": [
        {
          "output_type": "stream",
          "text": [
            "[{'personId': '29fb53f0-56ad-499d-a9d7-b763b6d938c5', 'persistedFaceIds': ['0aa6f776-ce53-4946-ad68-fd961bdd39ce', '76eb3bbf-13cd-442d-9f5e-72066ada742e', 'fe074a09-621d-4dc9-a6f8-b475990734fb'], 'name': 'Elizabeth'}, {'personId': 'c2f66164-4fbd-4a82-bb52-6ac2d92ce47c', 'persistedFaceIds': ['1b42ee02-81c6-4cbb-89de-52bf1192e317', '4c55c28d-3576-4e94-9a1d-86e4fb3c24d0', '9da318d9-7cde-4c00-a1ec-652c6e33d26c'], 'name': 'Bill'}, {'personId': 'c47a577a-b74f-41af-9bd5-52863ad92fb0', 'persistedFaceIds': ['479e048d-7c02-4a15-9de4-340ee63f047e', 'a7f41db4-4225-412a-98bd-67350b43f285', 'fe8e8cf9-b479-4f66-8c81-a5a31cbc897f'], 'name': 'Angela'}]\n"
          ],
          "name": "stdout"
        }
      ]
    },
    {
      "cell_type": "code",
      "metadata": {
        "colab": {
          "base_uri": "https://localhost:8080/"
        },
        "id": "TOk45qAD8AQz",
        "outputId": "ab5059e9-775a-4464-f71f-b5072940daac"
      },
      "source": [
        "found = False\n",
        "identified_person = identify_data[0]\n",
        "for candidate in identified_person['candidates']:\n",
        "  for person in person_data:\n",
        "    if(person['personId'] == candidate['personId']):\n",
        "      print('FOUND IT')\n",
        "      print('This is ' + person['name'])\n",
        "      found = True\n",
        "\n",
        "if(found == False):\n",
        "  print(\"We couldn't find this person\")"
      ],
      "execution_count": null,
      "outputs": [
        {
          "output_type": "stream",
          "text": [
            "FOUND IT\n",
            "This is Angela\n"
          ],
          "name": "stdout"
        }
      ]
    },
    {
      "cell_type": "code",
      "metadata": {
        "id": "G5aMxOHPWoAZ"
      },
      "source": [],
      "execution_count": null,
      "outputs": []
    }
  ]
}